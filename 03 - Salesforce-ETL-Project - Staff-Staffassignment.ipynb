{
 "cells": [
  {
   "cell_type": "code",
   "execution_count": null,
   "metadata": {},
   "outputs": [],
   "source": [
    "#!pip install simple_salesforce\n",
    "#!pip install pymysql\n",
    "#!pip install sqlalchemy"
   ]
  },
  {
   "cell_type": "code",
   "execution_count": 1,
   "metadata": {},
   "outputs": [],
   "source": [
    "import json\n",
    "from sqlalchemy import create_engine\n",
    "from datetime import date\n",
    "import pandas as pd\n",
    "import pymysql\n",
    "pymysql.install_as_MySQLdb()"
   ]
  },
  {
   "cell_type": "code",
   "execution_count": 2,
   "metadata": {},
   "outputs": [],
   "source": [
    "# Make sure to use your own `config.py` file. Consider ensuring that these variable names are in sync\n",
    "from config import sf_username, sf_password, sf_security_token\n",
    "from config import remote_db_endpoint, remote_db_port\n",
    "from config import remote_db_name, remote_db_user, remote_db_pwd"
   ]
  },
  {
   "cell_type": "code",
   "execution_count": 3,
   "metadata": {},
   "outputs": [],
   "source": [
    "from simple_salesforce import Salesforce\n",
    "sf = Salesforce(username=sf_username, password=sf_password, security_token=sf_security_token)"
   ]
  },
  {
   "cell_type": "code",
   "execution_count": 4,
   "metadata": {},
   "outputs": [],
   "source": [
    "engine = create_engine(f\"mysql://{remote_db_user}:{remote_db_pwd}@{remote_db_endpoint}:{remote_db_port}/{remote_db_name}\")\n",
    "conn = engine.connect()"
   ]
  },
  {
   "cell_type": "markdown",
   "metadata": {},
   "source": [
    "## Prepare ETL for the Student data"
   ]
  },
  {
   "cell_type": "code",
   "execution_count": 5,
   "metadata": {},
   "outputs": [
    {
     "data": {
      "text/html": [
       "<div>\n",
       "<style scoped>\n",
       "    .dataframe tbody tr th:only-of-type {\n",
       "        vertical-align: middle;\n",
       "    }\n",
       "\n",
       "    .dataframe tbody tr th {\n",
       "        vertical-align: top;\n",
       "    }\n",
       "\n",
       "    .dataframe thead th {\n",
       "        text-align: right;\n",
       "    }\n",
       "</style>\n",
       "<table border=\"1\" class=\"dataframe\">\n",
       "  <thead>\n",
       "    <tr style=\"text-align: right;\">\n",
       "      <th></th>\n",
       "      <th>ID_Staff</th>\n",
       "      <th>EmployeeID</th>\n",
       "      <th>LastName</th>\n",
       "      <th>FirstName</th>\n",
       "      <th>MiddleName</th>\n",
       "      <th>BirthDate</th>\n",
       "    </tr>\n",
       "  </thead>\n",
       "  <tbody>\n",
       "    <tr>\n",
       "      <th>0</th>\n",
       "      <td>1</td>\n",
       "      <td>000184220</td>\n",
       "      <td>Luongo</td>\n",
       "      <td>Darick</td>\n",
       "      <td>Nico</td>\n",
       "      <td>1995-07-05</td>\n",
       "    </tr>\n",
       "    <tr>\n",
       "      <th>1</th>\n",
       "      <td>2</td>\n",
       "      <td>000130109</td>\n",
       "      <td>Sanford</td>\n",
       "      <td>Gemini</td>\n",
       "      <td>Blair</td>\n",
       "      <td>1992-04-22</td>\n",
       "    </tr>\n",
       "    <tr>\n",
       "      <th>2</th>\n",
       "      <td>3</td>\n",
       "      <td>000160655</td>\n",
       "      <td>Williams</td>\n",
       "      <td>Dartanion</td>\n",
       "      <td>De Angelo</td>\n",
       "      <td>1993-05-21</td>\n",
       "    </tr>\n",
       "    <tr>\n",
       "      <th>3</th>\n",
       "      <td>4</td>\n",
       "      <td>000159108</td>\n",
       "      <td>Rodney</td>\n",
       "      <td>Heather</td>\n",
       "      <td>Nicole</td>\n",
       "      <td>1994-06-07</td>\n",
       "    </tr>\n",
       "  </tbody>\n",
       "</table>\n",
       "</div>"
      ],
      "text/plain": [
       "   ID_Staff EmployeeID  LastName  FirstName MiddleName   BirthDate\n",
       "0         1  000184220    Luongo     Darick       Nico  1995-07-05\n",
       "1         2  000130109   Sanford     Gemini      Blair  1992-04-22\n",
       "2         3  000160655  Williams  Dartanion  De Angelo  1993-05-21\n",
       "3         4  000159108    Rodney    Heather     Nicole  1994-06-07"
      ]
     },
     "execution_count": 5,
     "metadata": {},
     "output_type": "execute_result"
    }
   ],
   "source": [
    "staff_data_df = pd.read_sql('select * from staff', conn)\n",
    "staff_data_df.head()"
   ]
  },
  {
   "cell_type": "code",
   "execution_count": 6,
   "metadata": {},
   "outputs": [
    {
     "data": {
      "text/html": [
       "<div>\n",
       "<style scoped>\n",
       "    .dataframe tbody tr th:only-of-type {\n",
       "        vertical-align: middle;\n",
       "    }\n",
       "\n",
       "    .dataframe tbody tr th {\n",
       "        vertical-align: top;\n",
       "    }\n",
       "\n",
       "    .dataframe thead th {\n",
       "        text-align: right;\n",
       "    }\n",
       "</style>\n",
       "<table border=\"1\" class=\"dataframe\">\n",
       "  <thead>\n",
       "    <tr style=\"text-align: right;\">\n",
       "      <th></th>\n",
       "      <th>ID_Staff__c</th>\n",
       "      <th>EmployeeID__c</th>\n",
       "      <th>LastName__c</th>\n",
       "      <th>FirstName__c</th>\n",
       "      <th>MiddleName__c</th>\n",
       "      <th>BirthDate__c</th>\n",
       "    </tr>\n",
       "  </thead>\n",
       "  <tbody>\n",
       "    <tr>\n",
       "      <th>0</th>\n",
       "      <td>1</td>\n",
       "      <td>000184220</td>\n",
       "      <td>Luongo</td>\n",
       "      <td>Darick</td>\n",
       "      <td>Nico</td>\n",
       "      <td>1995-07-05</td>\n",
       "    </tr>\n",
       "    <tr>\n",
       "      <th>1</th>\n",
       "      <td>2</td>\n",
       "      <td>000130109</td>\n",
       "      <td>Sanford</td>\n",
       "      <td>Gemini</td>\n",
       "      <td>Blair</td>\n",
       "      <td>1992-04-22</td>\n",
       "    </tr>\n",
       "    <tr>\n",
       "      <th>2</th>\n",
       "      <td>3</td>\n",
       "      <td>000160655</td>\n",
       "      <td>Williams</td>\n",
       "      <td>Dartanion</td>\n",
       "      <td>De Angelo</td>\n",
       "      <td>1993-05-21</td>\n",
       "    </tr>\n",
       "    <tr>\n",
       "      <th>3</th>\n",
       "      <td>4</td>\n",
       "      <td>000159108</td>\n",
       "      <td>Rodney</td>\n",
       "      <td>Heather</td>\n",
       "      <td>Nicole</td>\n",
       "      <td>1994-06-07</td>\n",
       "    </tr>\n",
       "  </tbody>\n",
       "</table>\n",
       "</div>"
      ],
      "text/plain": [
       "   ID_Staff__c EmployeeID__c LastName__c FirstName__c MiddleName__c  \\\n",
       "0            1     000184220      Luongo       Darick          Nico   \n",
       "1            2     000130109     Sanford       Gemini         Blair   \n",
       "2            3     000160655    Williams    Dartanion     De Angelo   \n",
       "3            4     000159108      Rodney      Heather        Nicole   \n",
       "\n",
       "  BirthDate__c  \n",
       "0   1995-07-05  \n",
       "1   1992-04-22  \n",
       "2   1993-05-21  \n",
       "3   1994-06-07  "
      ]
     },
     "execution_count": 6,
     "metadata": {},
     "output_type": "execute_result"
    }
   ],
   "source": [
    "staff_data_df.rename(columns={\n",
    "    'ID_Staff':'ID_Staff__c',\n",
    "    'EmployeeID':'EmployeeID__c',\n",
    "    'LastName':'LastName__c',\n",
    "    'FirstName':'FirstName__c',\n",
    "    'MiddleName':'MiddleName__c',\n",
    "    'BirthDate':'BirthDate__c'\n",
    "}, inplace=True)\n",
    "\n",
    "staff_data_df"
   ]
  },
  {
   "cell_type": "code",
   "execution_count": 7,
   "metadata": {},
   "outputs": [],
   "source": [
    "staff_data_df['BirthDate__c'] = pd.to_datetime(staff_data_df['BirthDate__c']).dt.date"
   ]
  },
  {
   "cell_type": "code",
   "execution_count": 8,
   "metadata": {},
   "outputs": [
    {
     "data": {
      "text/plain": [
       "[{'ID_Staff__c': 1,\n",
       "  'EmployeeID__c': '000184220',\n",
       "  'LastName__c': 'Luongo',\n",
       "  'FirstName__c': 'Darick',\n",
       "  'MiddleName__c': 'Nico',\n",
       "  'BirthDate__c': datetime.date(1995, 7, 5)},\n",
       " {'ID_Staff__c': 2,\n",
       "  'EmployeeID__c': '000130109',\n",
       "  'LastName__c': 'Sanford',\n",
       "  'FirstName__c': 'Gemini',\n",
       "  'MiddleName__c': 'Blair',\n",
       "  'BirthDate__c': datetime.date(1992, 4, 22)},\n",
       " {'ID_Staff__c': 3,\n",
       "  'EmployeeID__c': '000160655',\n",
       "  'LastName__c': 'Williams',\n",
       "  'FirstName__c': 'Dartanion',\n",
       "  'MiddleName__c': 'De Angelo',\n",
       "  'BirthDate__c': datetime.date(1993, 5, 21)},\n",
       " {'ID_Staff__c': 4,\n",
       "  'EmployeeID__c': '000159108',\n",
       "  'LastName__c': 'Rodney',\n",
       "  'FirstName__c': 'Heather',\n",
       "  'MiddleName__c': 'Nicole',\n",
       "  'BirthDate__c': datetime.date(1994, 6, 7)}]"
      ]
     },
     "execution_count": 8,
     "metadata": {},
     "output_type": "execute_result"
    }
   ],
   "source": [
    "staff_data_records = staff_data_df.to_dict('records')\n",
    "staff_data_records"
   ]
  },
  {
   "cell_type": "code",
   "execution_count": null,
   "metadata": {},
   "outputs": [],
   "source": [
    "for rec in staff_data_records:\n",
    "    record = {\n",
    "        'ID_Staff__c': rec['ID_Staff__c'],\n",
    "        'EmployeeID__c': rec['EmployeeID__c'],\n",
    "        'LastName__c': rec['LastName__c'],\n",
    "        'FirstName__c': rec['FirstName__c'],\n",
    "        'MiddleName__c': rec['MiddleName__c'],\n",
    "        'BirthDate__c': str(rec['BirthDate__c'])\n",
    "    }\n",
    "    \n",
    "    try:\n",
    "        sf.Staff__C.create(record)\n",
    "    except Exception as e:\n",
    "        print(e)"
   ]
  },
  {
   "cell_type": "markdown",
   "metadata": {},
   "source": [
    "### Create Staff Lookup Table"
   ]
  },
  {
   "cell_type": "code",
   "execution_count": 9,
   "metadata": {},
   "outputs": [
    {
     "data": {
      "text/plain": [
       "[{'Staff_ID__c': 'a044x0000016WiU', 'ID_Staff__c': '4'},\n",
       " {'Staff_ID__c': 'a044x0000016WiK', 'ID_Staff__c': '2'},\n",
       " {'Staff_ID__c': 'a044x0000016WiF', 'ID_Staff__c': '1'},\n",
       " {'Staff_ID__c': 'a044x0000016WiP', 'ID_Staff__c': '3'}]"
      ]
     },
     "execution_count": 9,
     "metadata": {},
     "output_type": "execute_result"
    }
   ],
   "source": [
    "staff_lookup_list = []\n",
    "\n",
    "data = sf.query_all_iter('select ID_Staff__c, Name from Staff__c')\n",
    "\n",
    "for row in data:\n",
    "    rec = {\n",
    "        'Staff_ID__c': row['Name'],\n",
    "        'ID_Staff__c': row['ID_Staff__c']\n",
    "    }\n",
    "    staff_lookup_list.append(rec)\n",
    "    \n",
    "staff_lookup_list"
   ]
  },
  {
   "cell_type": "code",
   "execution_count": 10,
   "metadata": {},
   "outputs": [
    {
     "data": {
      "text/html": [
       "<div>\n",
       "<style scoped>\n",
       "    .dataframe tbody tr th:only-of-type {\n",
       "        vertical-align: middle;\n",
       "    }\n",
       "\n",
       "    .dataframe tbody tr th {\n",
       "        vertical-align: top;\n",
       "    }\n",
       "\n",
       "    .dataframe thead th {\n",
       "        text-align: right;\n",
       "    }\n",
       "</style>\n",
       "<table border=\"1\" class=\"dataframe\">\n",
       "  <thead>\n",
       "    <tr style=\"text-align: right;\">\n",
       "      <th></th>\n",
       "      <th>Staff_ID__c</th>\n",
       "      <th>ID_Staff__c</th>\n",
       "    </tr>\n",
       "  </thead>\n",
       "  <tbody>\n",
       "    <tr>\n",
       "      <th>0</th>\n",
       "      <td>a044x0000016WiU</td>\n",
       "      <td>4</td>\n",
       "    </tr>\n",
       "    <tr>\n",
       "      <th>1</th>\n",
       "      <td>a044x0000016WiK</td>\n",
       "      <td>2</td>\n",
       "    </tr>\n",
       "    <tr>\n",
       "      <th>2</th>\n",
       "      <td>a044x0000016WiF</td>\n",
       "      <td>1</td>\n",
       "    </tr>\n",
       "    <tr>\n",
       "      <th>3</th>\n",
       "      <td>a044x0000016WiP</td>\n",
       "      <td>3</td>\n",
       "    </tr>\n",
       "  </tbody>\n",
       "</table>\n",
       "</div>"
      ],
      "text/plain": [
       "       Staff_ID__c ID_Staff__c\n",
       "0  a044x0000016WiU           4\n",
       "1  a044x0000016WiK           2\n",
       "2  a044x0000016WiF           1\n",
       "3  a044x0000016WiP           3"
      ]
     },
     "execution_count": 10,
     "metadata": {},
     "output_type": "execute_result"
    }
   ],
   "source": [
    "staff_lookup_df = pd.DataFrame(staff_lookup_list)\n",
    "staff_lookup_df"
   ]
  },
  {
   "cell_type": "code",
   "execution_count": 11,
   "metadata": {},
   "outputs": [
    {
     "data": {
      "text/html": [
       "<div>\n",
       "<style scoped>\n",
       "    .dataframe tbody tr th:only-of-type {\n",
       "        vertical-align: middle;\n",
       "    }\n",
       "\n",
       "    .dataframe tbody tr th {\n",
       "        vertical-align: top;\n",
       "    }\n",
       "\n",
       "    .dataframe thead th {\n",
       "        text-align: right;\n",
       "    }\n",
       "</style>\n",
       "<table border=\"1\" class=\"dataframe\">\n",
       "  <thead>\n",
       "    <tr style=\"text-align: right;\">\n",
       "      <th></th>\n",
       "      <th>Staff_ID__c</th>\n",
       "      <th>ID_Staff__c</th>\n",
       "    </tr>\n",
       "  </thead>\n",
       "  <tbody>\n",
       "    <tr>\n",
       "      <th>0</th>\n",
       "      <td>a044x0000016WiU</td>\n",
       "      <td>4</td>\n",
       "    </tr>\n",
       "    <tr>\n",
       "      <th>1</th>\n",
       "      <td>a044x0000016WiK</td>\n",
       "      <td>2</td>\n",
       "    </tr>\n",
       "    <tr>\n",
       "      <th>2</th>\n",
       "      <td>a044x0000016WiF</td>\n",
       "      <td>1</td>\n",
       "    </tr>\n",
       "    <tr>\n",
       "      <th>3</th>\n",
       "      <td>a044x0000016WiP</td>\n",
       "      <td>3</td>\n",
       "    </tr>\n",
       "  </tbody>\n",
       "</table>\n",
       "</div>"
      ],
      "text/plain": [
       "       Staff_ID__c ID_Staff__c\n",
       "0  a044x0000016WiU           4\n",
       "1  a044x0000016WiK           2\n",
       "2  a044x0000016WiF           1\n",
       "3  a044x0000016WiP           3"
      ]
     },
     "execution_count": 11,
     "metadata": {},
     "output_type": "execute_result"
    }
   ],
   "source": [
    "staff_lookup_df['ID_Staff__c'] = staff_lookup_df['ID_Staff__c'].astype(str)\n",
    "staff_lookup_df"
   ]
  },
  {
   "cell_type": "markdown",
   "metadata": {},
   "source": [
    "### Create Class lookup table"
   ]
  },
  {
   "cell_type": "code",
   "execution_count": 12,
   "metadata": {},
   "outputs": [
    {
     "data": {
      "text/plain": [
       "[{'Class_ID__c': 'a014x000008Tj9e', 'ID_Class__c': '2'},\n",
       " {'Class_ID__c': 'a014x000008Tj9Z', 'ID_Class__c': '1'},\n",
       " {'Class_ID__c': 'a014x000008Tj9j', 'ID_Class__c': '3'},\n",
       " {'Class_ID__c': 'a014x000008Tj9o', 'ID_Class__c': '4'}]"
      ]
     },
     "execution_count": 12,
     "metadata": {},
     "output_type": "execute_result"
    }
   ],
   "source": [
    "class_lookup_list = []\n",
    "\n",
    "data = sf.query_all_iter('select ID_Class__c, Name from Class__c')\n",
    "for row in data:\n",
    "    rec = {\n",
    "        \"Class_ID__c\": row['Name'],\n",
    "        \"ID_Class__c\": row['ID_Class__c']\n",
    "    }\n",
    "    \n",
    "    class_lookup_list.append(rec)\n",
    "\n",
    "class_lookup_list"
   ]
  },
  {
   "cell_type": "code",
   "execution_count": 13,
   "metadata": {},
   "outputs": [
    {
     "data": {
      "text/html": [
       "<div>\n",
       "<style scoped>\n",
       "    .dataframe tbody tr th:only-of-type {\n",
       "        vertical-align: middle;\n",
       "    }\n",
       "\n",
       "    .dataframe tbody tr th {\n",
       "        vertical-align: top;\n",
       "    }\n",
       "\n",
       "    .dataframe thead th {\n",
       "        text-align: right;\n",
       "    }\n",
       "</style>\n",
       "<table border=\"1\" class=\"dataframe\">\n",
       "  <thead>\n",
       "    <tr style=\"text-align: right;\">\n",
       "      <th></th>\n",
       "      <th>Class_ID__c</th>\n",
       "      <th>ID_Class__c</th>\n",
       "    </tr>\n",
       "  </thead>\n",
       "  <tbody>\n",
       "    <tr>\n",
       "      <th>0</th>\n",
       "      <td>a014x000008Tj9e</td>\n",
       "      <td>2</td>\n",
       "    </tr>\n",
       "    <tr>\n",
       "      <th>1</th>\n",
       "      <td>a014x000008Tj9Z</td>\n",
       "      <td>1</td>\n",
       "    </tr>\n",
       "    <tr>\n",
       "      <th>2</th>\n",
       "      <td>a014x000008Tj9j</td>\n",
       "      <td>3</td>\n",
       "    </tr>\n",
       "    <tr>\n",
       "      <th>3</th>\n",
       "      <td>a014x000008Tj9o</td>\n",
       "      <td>4</td>\n",
       "    </tr>\n",
       "  </tbody>\n",
       "</table>\n",
       "</div>"
      ],
      "text/plain": [
       "       Class_ID__c ID_Class__c\n",
       "0  a014x000008Tj9e           2\n",
       "1  a014x000008Tj9Z           1\n",
       "2  a014x000008Tj9j           3\n",
       "3  a014x000008Tj9o           4"
      ]
     },
     "execution_count": 13,
     "metadata": {},
     "output_type": "execute_result"
    }
   ],
   "source": [
    "class_lookup_df = pd.DataFrame(class_lookup_list)\n",
    "class_lookup_df.head()"
   ]
  },
  {
   "cell_type": "code",
   "execution_count": 14,
   "metadata": {},
   "outputs": [
    {
     "data": {
      "text/html": [
       "<div>\n",
       "<style scoped>\n",
       "    .dataframe tbody tr th:only-of-type {\n",
       "        vertical-align: middle;\n",
       "    }\n",
       "\n",
       "    .dataframe tbody tr th {\n",
       "        vertical-align: top;\n",
       "    }\n",
       "\n",
       "    .dataframe thead th {\n",
       "        text-align: right;\n",
       "    }\n",
       "</style>\n",
       "<table border=\"1\" class=\"dataframe\">\n",
       "  <thead>\n",
       "    <tr style=\"text-align: right;\">\n",
       "      <th></th>\n",
       "      <th>Class_ID__c</th>\n",
       "      <th>ID_Class__c</th>\n",
       "    </tr>\n",
       "  </thead>\n",
       "  <tbody>\n",
       "    <tr>\n",
       "      <th>0</th>\n",
       "      <td>a014x000008Tj9e</td>\n",
       "      <td>2</td>\n",
       "    </tr>\n",
       "    <tr>\n",
       "      <th>1</th>\n",
       "      <td>a014x000008Tj9Z</td>\n",
       "      <td>1</td>\n",
       "    </tr>\n",
       "    <tr>\n",
       "      <th>2</th>\n",
       "      <td>a014x000008Tj9j</td>\n",
       "      <td>3</td>\n",
       "    </tr>\n",
       "    <tr>\n",
       "      <th>3</th>\n",
       "      <td>a014x000008Tj9o</td>\n",
       "      <td>4</td>\n",
       "    </tr>\n",
       "  </tbody>\n",
       "</table>\n",
       "</div>"
      ],
      "text/plain": [
       "       Class_ID__c ID_Class__c\n",
       "0  a014x000008Tj9e           2\n",
       "1  a014x000008Tj9Z           1\n",
       "2  a014x000008Tj9j           3\n",
       "3  a014x000008Tj9o           4"
      ]
     },
     "execution_count": 14,
     "metadata": {},
     "output_type": "execute_result"
    }
   ],
   "source": [
    "class_lookup_df['ID_Class__c'] = class_lookup_df['ID_Class__c'].astype(str)\n",
    "class_lookup_df"
   ]
  },
  {
   "cell_type": "markdown",
   "metadata": {},
   "source": [
    "### Query the Staffasignment table from MySQL"
   ]
  },
  {
   "cell_type": "code",
   "execution_count": 24,
   "metadata": {},
   "outputs": [
    {
     "data": {
      "text/html": [
       "<div>\n",
       "<style scoped>\n",
       "    .dataframe tbody tr th:only-of-type {\n",
       "        vertical-align: middle;\n",
       "    }\n",
       "\n",
       "    .dataframe tbody tr th {\n",
       "        vertical-align: top;\n",
       "    }\n",
       "\n",
       "    .dataframe thead th {\n",
       "        text-align: right;\n",
       "    }\n",
       "</style>\n",
       "<table border=\"1\" class=\"dataframe\">\n",
       "  <thead>\n",
       "    <tr style=\"text-align: right;\">\n",
       "      <th></th>\n",
       "      <th>ID_StaffAssignment</th>\n",
       "      <th>ID_Staff</th>\n",
       "      <th>ID_Class</th>\n",
       "      <th>Role</th>\n",
       "      <th>StartDate</th>\n",
       "      <th>EndDate</th>\n",
       "    </tr>\n",
       "  </thead>\n",
       "  <tbody>\n",
       "    <tr>\n",
       "      <th>0</th>\n",
       "      <td>1</td>\n",
       "      <td>1</td>\n",
       "      <td>1</td>\n",
       "      <td>Teacher Assistant</td>\n",
       "      <td>2020-09-16</td>\n",
       "      <td>None</td>\n",
       "    </tr>\n",
       "    <tr>\n",
       "      <th>1</th>\n",
       "      <td>2</td>\n",
       "      <td>4</td>\n",
       "      <td>1</td>\n",
       "      <td>Teacher Assistant</td>\n",
       "      <td>2020-09-16</td>\n",
       "      <td>None</td>\n",
       "    </tr>\n",
       "    <tr>\n",
       "      <th>2</th>\n",
       "      <td>3</td>\n",
       "      <td>3</td>\n",
       "      <td>1</td>\n",
       "      <td>Instructor</td>\n",
       "      <td>2020-09-16</td>\n",
       "      <td>None</td>\n",
       "    </tr>\n",
       "  </tbody>\n",
       "</table>\n",
       "</div>"
      ],
      "text/plain": [
       "   ID_StaffAssignment  ID_Staff  ID_Class               Role   StartDate  \\\n",
       "0                   1         1         1  Teacher Assistant  2020-09-16   \n",
       "1                   2         4         1  Teacher Assistant  2020-09-16   \n",
       "2                   3         3         1         Instructor  2020-09-16   \n",
       "\n",
       "  EndDate  \n",
       "0    None  \n",
       "1    None  \n",
       "2    None  "
      ]
     },
     "execution_count": 24,
     "metadata": {},
     "output_type": "execute_result"
    }
   ],
   "source": [
    "query = '''\n",
    "   select * from staffassignment\n",
    "'''\n",
    "\n",
    "staffassignment_data_df = pd.read_sql(query, conn)\n",
    "staffassignment_data_df"
   ]
  },
  {
   "cell_type": "code",
   "execution_count": 25,
   "metadata": {},
   "outputs": [
    {
     "data": {
      "text/html": [
       "<div>\n",
       "<style scoped>\n",
       "    .dataframe tbody tr th:only-of-type {\n",
       "        vertical-align: middle;\n",
       "    }\n",
       "\n",
       "    .dataframe tbody tr th {\n",
       "        vertical-align: top;\n",
       "    }\n",
       "\n",
       "    .dataframe thead th {\n",
       "        text-align: right;\n",
       "    }\n",
       "</style>\n",
       "<table border=\"1\" class=\"dataframe\">\n",
       "  <thead>\n",
       "    <tr style=\"text-align: right;\">\n",
       "      <th></th>\n",
       "      <th>ID_StaffAssignment__c</th>\n",
       "      <th>ID_Staff__c</th>\n",
       "      <th>ID_Class__c</th>\n",
       "      <th>Role__c</th>\n",
       "      <th>StartDate__c</th>\n",
       "      <th>EndDate__c</th>\n",
       "    </tr>\n",
       "  </thead>\n",
       "  <tbody>\n",
       "    <tr>\n",
       "      <th>0</th>\n",
       "      <td>1</td>\n",
       "      <td>1</td>\n",
       "      <td>1</td>\n",
       "      <td>Teacher Assistant</td>\n",
       "      <td>2020-09-16</td>\n",
       "      <td>None</td>\n",
       "    </tr>\n",
       "    <tr>\n",
       "      <th>1</th>\n",
       "      <td>2</td>\n",
       "      <td>4</td>\n",
       "      <td>1</td>\n",
       "      <td>Teacher Assistant</td>\n",
       "      <td>2020-09-16</td>\n",
       "      <td>None</td>\n",
       "    </tr>\n",
       "    <tr>\n",
       "      <th>2</th>\n",
       "      <td>3</td>\n",
       "      <td>3</td>\n",
       "      <td>1</td>\n",
       "      <td>Instructor</td>\n",
       "      <td>2020-09-16</td>\n",
       "      <td>None</td>\n",
       "    </tr>\n",
       "  </tbody>\n",
       "</table>\n",
       "</div>"
      ],
      "text/plain": [
       "   ID_StaffAssignment__c  ID_Staff__c  ID_Class__c            Role__c  \\\n",
       "0                      1            1            1  Teacher Assistant   \n",
       "1                      2            4            1  Teacher Assistant   \n",
       "2                      3            3            1         Instructor   \n",
       "\n",
       "  StartDate__c EndDate__c  \n",
       "0   2020-09-16       None  \n",
       "1   2020-09-16       None  \n",
       "2   2020-09-16       None  "
      ]
     },
     "execution_count": 25,
     "metadata": {},
     "output_type": "execute_result"
    }
   ],
   "source": [
    "staffassignment_data_df.rename(columns={\n",
    "    'ID_StaffAssignment':'ID_StaffAssignment__c',\n",
    "    'ID_Staff':'ID_Staff__c',\n",
    "    'ID_Class':'ID_Class__c',\n",
    "    'Role':'Role__c',\n",
    "    'StartDate':'StartDate__c',\n",
    "    'EndDate':'EndDate__c'\n",
    "}, inplace=True)\n",
    "\n",
    "staffassignment_data_df"
   ]
  },
  {
   "cell_type": "code",
   "execution_count": 26,
   "metadata": {},
   "outputs": [
    {
     "data": {
      "text/html": [
       "<div>\n",
       "<style scoped>\n",
       "    .dataframe tbody tr th:only-of-type {\n",
       "        vertical-align: middle;\n",
       "    }\n",
       "\n",
       "    .dataframe tbody tr th {\n",
       "        vertical-align: top;\n",
       "    }\n",
       "\n",
       "    .dataframe thead th {\n",
       "        text-align: right;\n",
       "    }\n",
       "</style>\n",
       "<table border=\"1\" class=\"dataframe\">\n",
       "  <thead>\n",
       "    <tr style=\"text-align: right;\">\n",
       "      <th></th>\n",
       "      <th>ID_StaffAssignment__c</th>\n",
       "      <th>ID_Staff__c</th>\n",
       "      <th>ID_Class__c</th>\n",
       "      <th>Role__c</th>\n",
       "      <th>StartDate__c</th>\n",
       "      <th>EndDate__c</th>\n",
       "    </tr>\n",
       "  </thead>\n",
       "  <tbody>\n",
       "    <tr>\n",
       "      <th>0</th>\n",
       "      <td>1</td>\n",
       "      <td>1</td>\n",
       "      <td>1</td>\n",
       "      <td>Teacher Assistant</td>\n",
       "      <td>2020-09-16</td>\n",
       "      <td>None</td>\n",
       "    </tr>\n",
       "    <tr>\n",
       "      <th>1</th>\n",
       "      <td>2</td>\n",
       "      <td>4</td>\n",
       "      <td>1</td>\n",
       "      <td>Teacher Assistant</td>\n",
       "      <td>2020-09-16</td>\n",
       "      <td>None</td>\n",
       "    </tr>\n",
       "    <tr>\n",
       "      <th>2</th>\n",
       "      <td>3</td>\n",
       "      <td>3</td>\n",
       "      <td>1</td>\n",
       "      <td>Instructor</td>\n",
       "      <td>2020-09-16</td>\n",
       "      <td>None</td>\n",
       "    </tr>\n",
       "  </tbody>\n",
       "</table>\n",
       "</div>"
      ],
      "text/plain": [
       "   ID_StaffAssignment__c  ID_Staff__c  ID_Class__c            Role__c  \\\n",
       "0                      1            1            1  Teacher Assistant   \n",
       "1                      2            4            1  Teacher Assistant   \n",
       "2                      3            3            1         Instructor   \n",
       "\n",
       "  StartDate__c EndDate__c  \n",
       "0   2020-09-16       None  \n",
       "1   2020-09-16       None  \n",
       "2   2020-09-16       None  "
      ]
     },
     "execution_count": 26,
     "metadata": {},
     "output_type": "execute_result"
    }
   ],
   "source": [
    "staffassignment_data_df['StartDate__c'] = pd.to_datetime(staffassignment_data_df['StartDate__c']).dt.date\n",
    "staffassignment_data_df"
   ]
  },
  {
   "cell_type": "markdown",
   "metadata": {},
   "source": [
    "## Join the Class DataFrame with the Course lookup table\n",
    "This join is necessary to successfully lookup the foreign key for the Course table "
   ]
  },
  {
   "cell_type": "code",
   "execution_count": 27,
   "metadata": {},
   "outputs": [
    {
     "data": {
      "text/html": [
       "<div>\n",
       "<style scoped>\n",
       "    .dataframe tbody tr th:only-of-type {\n",
       "        vertical-align: middle;\n",
       "    }\n",
       "\n",
       "    .dataframe tbody tr th {\n",
       "        vertical-align: top;\n",
       "    }\n",
       "\n",
       "    .dataframe thead th {\n",
       "        text-align: right;\n",
       "    }\n",
       "</style>\n",
       "<table border=\"1\" class=\"dataframe\">\n",
       "  <thead>\n",
       "    <tr style=\"text-align: right;\">\n",
       "      <th></th>\n",
       "      <th>Staff_ID__c</th>\n",
       "      <th>ID_Staff__c</th>\n",
       "    </tr>\n",
       "  </thead>\n",
       "  <tbody>\n",
       "    <tr>\n",
       "      <th>0</th>\n",
       "      <td>a044x0000016WiU</td>\n",
       "      <td>4</td>\n",
       "    </tr>\n",
       "    <tr>\n",
       "      <th>1</th>\n",
       "      <td>a044x0000016WiK</td>\n",
       "      <td>2</td>\n",
       "    </tr>\n",
       "    <tr>\n",
       "      <th>2</th>\n",
       "      <td>a044x0000016WiF</td>\n",
       "      <td>1</td>\n",
       "    </tr>\n",
       "    <tr>\n",
       "      <th>3</th>\n",
       "      <td>a044x0000016WiP</td>\n",
       "      <td>3</td>\n",
       "    </tr>\n",
       "  </tbody>\n",
       "</table>\n",
       "</div>"
      ],
      "text/plain": [
       "       Staff_ID__c ID_Staff__c\n",
       "0  a044x0000016WiU           4\n",
       "1  a044x0000016WiK           2\n",
       "2  a044x0000016WiF           1\n",
       "3  a044x0000016WiP           3"
      ]
     },
     "execution_count": 27,
     "metadata": {},
     "output_type": "execute_result"
    }
   ],
   "source": [
    "staff_lookup_df"
   ]
  },
  {
   "cell_type": "code",
   "execution_count": 29,
   "metadata": {},
   "outputs": [],
   "source": [
    "staffassignment_data_df['ID_Staff__c'] = staffassignment_data_df['ID_Staff__c'].astype(str)"
   ]
  },
  {
   "cell_type": "code",
   "execution_count": 30,
   "metadata": {},
   "outputs": [
    {
     "data": {
      "text/html": [
       "<div>\n",
       "<style scoped>\n",
       "    .dataframe tbody tr th:only-of-type {\n",
       "        vertical-align: middle;\n",
       "    }\n",
       "\n",
       "    .dataframe tbody tr th {\n",
       "        vertical-align: top;\n",
       "    }\n",
       "\n",
       "    .dataframe thead th {\n",
       "        text-align: right;\n",
       "    }\n",
       "</style>\n",
       "<table border=\"1\" class=\"dataframe\">\n",
       "  <thead>\n",
       "    <tr style=\"text-align: right;\">\n",
       "      <th></th>\n",
       "      <th>ID_StaffAssignment__c</th>\n",
       "      <th>ID_Staff__c</th>\n",
       "      <th>ID_Class__c</th>\n",
       "      <th>Role__c</th>\n",
       "      <th>StartDate__c</th>\n",
       "      <th>EndDate__c</th>\n",
       "      <th>Staff_ID__c</th>\n",
       "    </tr>\n",
       "  </thead>\n",
       "  <tbody>\n",
       "    <tr>\n",
       "      <th>0</th>\n",
       "      <td>1</td>\n",
       "      <td>1</td>\n",
       "      <td>1</td>\n",
       "      <td>Teacher Assistant</td>\n",
       "      <td>2020-09-16</td>\n",
       "      <td>None</td>\n",
       "      <td>a044x0000016WiF</td>\n",
       "    </tr>\n",
       "    <tr>\n",
       "      <th>1</th>\n",
       "      <td>2</td>\n",
       "      <td>4</td>\n",
       "      <td>1</td>\n",
       "      <td>Teacher Assistant</td>\n",
       "      <td>2020-09-16</td>\n",
       "      <td>None</td>\n",
       "      <td>a044x0000016WiU</td>\n",
       "    </tr>\n",
       "    <tr>\n",
       "      <th>2</th>\n",
       "      <td>3</td>\n",
       "      <td>3</td>\n",
       "      <td>1</td>\n",
       "      <td>Instructor</td>\n",
       "      <td>2020-09-16</td>\n",
       "      <td>None</td>\n",
       "      <td>a044x0000016WiP</td>\n",
       "    </tr>\n",
       "  </tbody>\n",
       "</table>\n",
       "</div>"
      ],
      "text/plain": [
       "   ID_StaffAssignment__c ID_Staff__c  ID_Class__c            Role__c  \\\n",
       "0                      1           1            1  Teacher Assistant   \n",
       "1                      2           4            1  Teacher Assistant   \n",
       "2                      3           3            1         Instructor   \n",
       "\n",
       "  StartDate__c EndDate__c      Staff_ID__c  \n",
       "0   2020-09-16       None  a044x0000016WiF  \n",
       "1   2020-09-16       None  a044x0000016WiU  \n",
       "2   2020-09-16       None  a044x0000016WiP  "
      ]
     },
     "execution_count": 30,
     "metadata": {},
     "output_type": "execute_result"
    }
   ],
   "source": [
    "staffassignment_data1 = pd.merge(staffassignment_data_df, staff_lookup_df, how='left')\n",
    "staffassignment_data1"
   ]
  },
  {
   "cell_type": "code",
   "execution_count": 31,
   "metadata": {},
   "outputs": [],
   "source": [
    "# convert float to integer\n",
    "#class_lookup_df['ID_Class__c'] = class_lookup_df['ID_Class__c'].astype(str)\n",
    "staffassignment_data1['ID_Class__c'] = staffassignment_data1['ID_Class__c'].astype(str)"
   ]
  },
  {
   "cell_type": "code",
   "execution_count": 32,
   "metadata": {},
   "outputs": [
    {
     "data": {
      "text/html": [
       "<div>\n",
       "<style scoped>\n",
       "    .dataframe tbody tr th:only-of-type {\n",
       "        vertical-align: middle;\n",
       "    }\n",
       "\n",
       "    .dataframe tbody tr th {\n",
       "        vertical-align: top;\n",
       "    }\n",
       "\n",
       "    .dataframe thead th {\n",
       "        text-align: right;\n",
       "    }\n",
       "</style>\n",
       "<table border=\"1\" class=\"dataframe\">\n",
       "  <thead>\n",
       "    <tr style=\"text-align: right;\">\n",
       "      <th></th>\n",
       "      <th>ID_StaffAssignment__c</th>\n",
       "      <th>ID_Staff__c</th>\n",
       "      <th>ID_Class__c</th>\n",
       "      <th>Role__c</th>\n",
       "      <th>StartDate__c</th>\n",
       "      <th>EndDate__c</th>\n",
       "      <th>Staff_ID__c</th>\n",
       "      <th>Class_ID__c</th>\n",
       "    </tr>\n",
       "  </thead>\n",
       "  <tbody>\n",
       "    <tr>\n",
       "      <th>0</th>\n",
       "      <td>1</td>\n",
       "      <td>1</td>\n",
       "      <td>1</td>\n",
       "      <td>Teacher Assistant</td>\n",
       "      <td>2020-09-16</td>\n",
       "      <td>None</td>\n",
       "      <td>a044x0000016WiF</td>\n",
       "      <td>a014x000008Tj9Z</td>\n",
       "    </tr>\n",
       "    <tr>\n",
       "      <th>1</th>\n",
       "      <td>2</td>\n",
       "      <td>4</td>\n",
       "      <td>1</td>\n",
       "      <td>Teacher Assistant</td>\n",
       "      <td>2020-09-16</td>\n",
       "      <td>None</td>\n",
       "      <td>a044x0000016WiU</td>\n",
       "      <td>a014x000008Tj9Z</td>\n",
       "    </tr>\n",
       "    <tr>\n",
       "      <th>2</th>\n",
       "      <td>3</td>\n",
       "      <td>3</td>\n",
       "      <td>1</td>\n",
       "      <td>Instructor</td>\n",
       "      <td>2020-09-16</td>\n",
       "      <td>None</td>\n",
       "      <td>a044x0000016WiP</td>\n",
       "      <td>a014x000008Tj9Z</td>\n",
       "    </tr>\n",
       "  </tbody>\n",
       "</table>\n",
       "</div>"
      ],
      "text/plain": [
       "   ID_StaffAssignment__c ID_Staff__c ID_Class__c            Role__c  \\\n",
       "0                      1           1           1  Teacher Assistant   \n",
       "1                      2           4           1  Teacher Assistant   \n",
       "2                      3           3           1         Instructor   \n",
       "\n",
       "  StartDate__c EndDate__c      Staff_ID__c      Class_ID__c  \n",
       "0   2020-09-16       None  a044x0000016WiF  a014x000008Tj9Z  \n",
       "1   2020-09-16       None  a044x0000016WiU  a014x000008Tj9Z  \n",
       "2   2020-09-16       None  a044x0000016WiP  a014x000008Tj9Z  "
      ]
     },
     "execution_count": 32,
     "metadata": {},
     "output_type": "execute_result"
    }
   ],
   "source": [
    "staffassignment_data2 = pd.merge(staffassignment_data1, class_lookup_df, how='left')\n",
    "staffassignment_data2"
   ]
  },
  {
   "cell_type": "code",
   "execution_count": null,
   "metadata": {},
   "outputs": [],
   "source": [
    "#staffassignment_data2['StartDate__c'] = pd.to_datetime(staffassignment_data2['StartDate__c']).dt.date"
   ]
  },
  {
   "cell_type": "code",
   "execution_count": 35,
   "metadata": {},
   "outputs": [],
   "source": [
    "staffassignment_data2['EndDate__c'] = pd.to_datetime(staffassignment_data2['EndDate__c']).dt.date"
   ]
  },
  {
   "cell_type": "code",
   "execution_count": 36,
   "metadata": {},
   "outputs": [
    {
     "data": {
      "text/plain": [
       "[{'ID_StaffAssignment__c': 1,\n",
       "  'ID_Staff__c': '1',\n",
       "  'ID_Class__c': '1',\n",
       "  'Role__c': 'Teacher Assistant',\n",
       "  'StartDate__c': datetime.date(2020, 9, 16),\n",
       "  'EndDate__c': NaT,\n",
       "  'Staff_ID__c': 'a044x0000016WiF',\n",
       "  'Class_ID__c': 'a014x000008Tj9Z'},\n",
       " {'ID_StaffAssignment__c': 2,\n",
       "  'ID_Staff__c': '4',\n",
       "  'ID_Class__c': '1',\n",
       "  'Role__c': 'Teacher Assistant',\n",
       "  'StartDate__c': datetime.date(2020, 9, 16),\n",
       "  'EndDate__c': NaT,\n",
       "  'Staff_ID__c': 'a044x0000016WiU',\n",
       "  'Class_ID__c': 'a014x000008Tj9Z'},\n",
       " {'ID_StaffAssignment__c': 3,\n",
       "  'ID_Staff__c': '3',\n",
       "  'ID_Class__c': '1',\n",
       "  'Role__c': 'Instructor',\n",
       "  'StartDate__c': datetime.date(2020, 9, 16),\n",
       "  'EndDate__c': NaT,\n",
       "  'Staff_ID__c': 'a044x0000016WiP',\n",
       "  'Class_ID__c': 'a014x000008Tj9Z'}]"
      ]
     },
     "execution_count": 36,
     "metadata": {},
     "output_type": "execute_result"
    }
   ],
   "source": [
    "staffassignment_data_records = staffassignment_data2.to_dict(orient='records')\n",
    "staffassignment_data_records"
   ]
  },
  {
   "cell_type": "markdown",
   "metadata": {},
   "source": [
    "## Insert `Staffassignment` Records into Salesforce"
   ]
  },
  {
   "cell_type": "code",
   "execution_count": 38,
   "metadata": {},
   "outputs": [],
   "source": [
    "for rec in staffassignment_data_records:\n",
    "    record = {\n",
    "        'ID_StaffAssignment__c': rec['ID_StaffAssignment__c'],\n",
    "        'ID_Staff__c': rec['ID_Staff__c'],\n",
    "        'ID_Class__c': rec['ID_Class__c'],\n",
    "        'Role__c': rec['Role__c'],\n",
    "        'StartDate__c': str(rec['StartDate__c']),\n",
    "        'EndDate__c': str(rec['EndDate__c']),\n",
    "        'Staff_ID__c': rec['Staff_ID__c'],\n",
    "        'Class_ID__c': rec['Class_ID__c']\n",
    "    }\n",
    "    \n",
    "    try:\n",
    "        sf.Staffassignment__C.create(record)\n",
    "    except Exception as e:\n",
    "        print(e)"
   ]
  },
  {
   "cell_type": "markdown",
   "metadata": {},
   "source": [
    "## Example of Deleting Records\n",
    "\n",
    "Select the IDs of the records first and then process the results.\n",
    "\n",
    "Ultimately, you want a list of IDs in the end.\n"
   ]
  },
  {
   "cell_type": "code",
   "execution_count": null,
   "metadata": {},
   "outputs": [],
   "source": [
    "staff_records = sf.query(\"SELECT Id FROM Staff__c\")\n",
    "recs_to_delete = [{'Id': r['Id']} for r in staff_records['records']]\n",
    "recs_to_delete"
   ]
  },
  {
   "cell_type": "code",
   "execution_count": null,
   "metadata": {},
   "outputs": [],
   "source": [
    "#sf.bulk.Course__c.delete(recs_to_delete)"
   ]
  },
  {
   "cell_type": "code",
   "execution_count": null,
   "metadata": {},
   "outputs": [],
   "source": [
    "for rec in recs_to_delete:\n",
    "    try:\n",
    "        sf.staff__c.delete(rec['Id'])\n",
    "    except Exception as e:\n",
    "        print(e)"
   ]
  },
  {
   "cell_type": "code",
   "execution_count": null,
   "metadata": {},
   "outputs": [],
   "source": []
  }
 ],
 "metadata": {
  "kernelspec": {
   "display_name": "Python 3",
   "language": "python",
   "name": "python3"
  },
  "language_info": {
   "codemirror_mode": {
    "name": "ipython",
    "version": 3
   },
   "file_extension": ".py",
   "mimetype": "text/x-python",
   "name": "python",
   "nbconvert_exporter": "python",
   "pygments_lexer": "ipython3",
   "version": "3.8.3"
  }
 },
 "nbformat": 4,
 "nbformat_minor": 2
}
